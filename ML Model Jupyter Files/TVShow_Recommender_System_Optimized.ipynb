{
 "cells": [
  {
   "cell_type": "markdown",
   "metadata": {
    "colab_type": "text",
    "id": "view-in-github"
   },
   "source": [
    "<a href=\"https://colab.research.google.com/github/HardeepSaggu/TVShow-Recommendation-System-NLP/blob/master/TVShow_Recommender_System.ipynb\" target=\"_parent\"><img src=\"https://colab.research.google.com/assets/colab-badge.svg\" alt=\"Open In Colab\"/></a>"
   ]
  },
  {
   "cell_type": "markdown",
   "metadata": {
    "colab_type": "text",
    "id": "Kj3WdNhOIFMd"
   },
   "source": [
    "**libraries and modules**"
   ]
  },
  {
   "cell_type": "code",
   "execution_count": 1,
   "metadata": {
    "colab": {},
    "colab_type": "code",
    "id": "wdXDqFReIFMh"
   },
   "outputs": [],
   "source": [
    "import numpy as np\n",
    "import pandas as pd\n",
    "import matplotlib.pyplot as plt\n",
    "from sklearn.feature_extraction.text import TfidfVectorizer,CountVectorizer\n",
    "from sklearn.metrics.pairwise import cosine_similarity,cosine_similarity,linear_kernel\n",
    "from ast import literal_eval\n",
    "import warnings\n",
    "from scipy.sparse import csr_matrix\n",
    "warnings.filterwarnings('ignore')\n",
    "%matplotlib inline"
   ]
  },
  {
   "cell_type": "markdown",
   "metadata": {
    "colab_type": "text",
    "id": "md7DWkolIFMq"
   },
   "source": [
    "**Dataset** \n"
   ]
  },
  {
   "cell_type": "code",
   "execution_count": 2,
   "metadata": {
    "colab": {},
    "colab_type": "code",
    "id": "r7AyxBn7IFMs"
   },
   "outputs": [],
   "source": [
    "df2 = pd.read_csv('C:/Programming/Python/Movie-Recommendation-System-NLP-master/tmdb-movie-metadata/TMDB_tv_dataset_v3.csv')"
   ]
  },
  {
   "cell_type": "code",
   "execution_count": 3,
   "metadata": {
    "colab": {},
    "colab_type": "code",
    "id": "9zZ4_8paIFM-",
    "outputId": "eb8563ac-59d1-45a4-ccd4-387722fccdf3"
   },
   "outputs": [
    {
     "data": {
      "text/html": [
       "<div>\n",
       "<style scoped>\n",
       "    .dataframe tbody tr th:only-of-type {\n",
       "        vertical-align: middle;\n",
       "    }\n",
       "\n",
       "    .dataframe tbody tr th {\n",
       "        vertical-align: top;\n",
       "    }\n",
       "\n",
       "    .dataframe thead th {\n",
       "        text-align: right;\n",
       "    }\n",
       "</style>\n",
       "<table border=\"1\" class=\"dataframe\">\n",
       "  <thead>\n",
       "    <tr style=\"text-align: right;\">\n",
       "      <th></th>\n",
       "      <th>id</th>\n",
       "      <th>name</th>\n",
       "      <th>number_of_seasons</th>\n",
       "      <th>number_of_episodes</th>\n",
       "      <th>original_language</th>\n",
       "      <th>vote_count</th>\n",
       "      <th>vote_average</th>\n",
       "      <th>overview</th>\n",
       "      <th>adult</th>\n",
       "      <th>backdrop_path</th>\n",
       "      <th>...</th>\n",
       "      <th>tagline</th>\n",
       "      <th>genres</th>\n",
       "      <th>created_by</th>\n",
       "      <th>languages</th>\n",
       "      <th>networks</th>\n",
       "      <th>origin_country</th>\n",
       "      <th>spoken_languages</th>\n",
       "      <th>production_companies</th>\n",
       "      <th>production_countries</th>\n",
       "      <th>episode_run_time</th>\n",
       "    </tr>\n",
       "  </thead>\n",
       "  <tbody>\n",
       "    <tr>\n",
       "      <th>0</th>\n",
       "      <td>1399</td>\n",
       "      <td>Game of Thrones</td>\n",
       "      <td>8</td>\n",
       "      <td>73</td>\n",
       "      <td>en</td>\n",
       "      <td>21857</td>\n",
       "      <td>8.442</td>\n",
       "      <td>Seven noble families fight for control of the ...</td>\n",
       "      <td>False</td>\n",
       "      <td>/2OMB0ynKlyIenMJWI2Dy9IWT4c.jpg</td>\n",
       "      <td>...</td>\n",
       "      <td>Winter Is Coming</td>\n",
       "      <td>Sci-Fi &amp; Fantasy, Drama, Action &amp; Adventure</td>\n",
       "      <td>David Benioff, D.B. Weiss</td>\n",
       "      <td>en</td>\n",
       "      <td>HBO</td>\n",
       "      <td>US</td>\n",
       "      <td>English</td>\n",
       "      <td>Revolution Sun Studios, Television 360, Genera...</td>\n",
       "      <td>United Kingdom, United States of America</td>\n",
       "      <td>0</td>\n",
       "    </tr>\n",
       "    <tr>\n",
       "      <th>1</th>\n",
       "      <td>71446</td>\n",
       "      <td>Money Heist</td>\n",
       "      <td>3</td>\n",
       "      <td>41</td>\n",
       "      <td>es</td>\n",
       "      <td>17836</td>\n",
       "      <td>8.257</td>\n",
       "      <td>To carry out the biggest heist in history, a m...</td>\n",
       "      <td>False</td>\n",
       "      <td>/gFZriCkpJYsApPZEF3jhxL4yLzG.jpg</td>\n",
       "      <td>...</td>\n",
       "      <td>The perfect robbery.</td>\n",
       "      <td>Crime, Drama</td>\n",
       "      <td>Álex Pina</td>\n",
       "      <td>es</td>\n",
       "      <td>Netflix, Antena 3</td>\n",
       "      <td>ES</td>\n",
       "      <td>Español</td>\n",
       "      <td>Vancouver Media</td>\n",
       "      <td>Spain</td>\n",
       "      <td>70</td>\n",
       "    </tr>\n",
       "    <tr>\n",
       "      <th>2</th>\n",
       "      <td>66732</td>\n",
       "      <td>Stranger Things</td>\n",
       "      <td>4</td>\n",
       "      <td>34</td>\n",
       "      <td>en</td>\n",
       "      <td>16161</td>\n",
       "      <td>8.624</td>\n",
       "      <td>When a young boy vanishes, a small town uncove...</td>\n",
       "      <td>False</td>\n",
       "      <td>/2MaumbgBlW1NoPo3ZJO38A6v7OS.jpg</td>\n",
       "      <td>...</td>\n",
       "      <td>Every ending has a beginning.</td>\n",
       "      <td>Drama, Sci-Fi &amp; Fantasy, Mystery</td>\n",
       "      <td>Matt Duffer, Ross Duffer</td>\n",
       "      <td>en</td>\n",
       "      <td>Netflix</td>\n",
       "      <td>US</td>\n",
       "      <td>English</td>\n",
       "      <td>21 Laps Entertainment, Monkey Massacre Product...</td>\n",
       "      <td>United States of America</td>\n",
       "      <td>0</td>\n",
       "    </tr>\n",
       "    <tr>\n",
       "      <th>3</th>\n",
       "      <td>1402</td>\n",
       "      <td>The Walking Dead</td>\n",
       "      <td>11</td>\n",
       "      <td>177</td>\n",
       "      <td>en</td>\n",
       "      <td>15432</td>\n",
       "      <td>8.121</td>\n",
       "      <td>Sheriff's deputy Rick Grimes awakens from a co...</td>\n",
       "      <td>False</td>\n",
       "      <td>/x4salpjB11umlUOltfNvSSrjSXm.jpg</td>\n",
       "      <td>...</td>\n",
       "      <td>Fight the dead. Fear the living.</td>\n",
       "      <td>Action &amp; Adventure, Drama, Sci-Fi &amp; Fantasy</td>\n",
       "      <td>Frank Darabont</td>\n",
       "      <td>en</td>\n",
       "      <td>AMC</td>\n",
       "      <td>US</td>\n",
       "      <td>English</td>\n",
       "      <td>AMC Studios, Circle of Confusion, Valhalla Mot...</td>\n",
       "      <td>United States of America</td>\n",
       "      <td>42</td>\n",
       "    </tr>\n",
       "    <tr>\n",
       "      <th>4</th>\n",
       "      <td>63174</td>\n",
       "      <td>Lucifer</td>\n",
       "      <td>6</td>\n",
       "      <td>93</td>\n",
       "      <td>en</td>\n",
       "      <td>13870</td>\n",
       "      <td>8.486</td>\n",
       "      <td>Bored and unhappy as the Lord of Hell, Lucifer...</td>\n",
       "      <td>False</td>\n",
       "      <td>/aDBRtunw49UF4XmqfyNuD9nlYIu.jpg</td>\n",
       "      <td>...</td>\n",
       "      <td>It's good to be bad.</td>\n",
       "      <td>Crime, Sci-Fi &amp; Fantasy</td>\n",
       "      <td>Tom Kapinos</td>\n",
       "      <td>en</td>\n",
       "      <td>FOX, Netflix</td>\n",
       "      <td>US</td>\n",
       "      <td>English</td>\n",
       "      <td>Warner Bros. Television, DC Entertainment, Jer...</td>\n",
       "      <td>United States of America</td>\n",
       "      <td>45</td>\n",
       "    </tr>\n",
       "  </tbody>\n",
       "</table>\n",
       "<p>5 rows × 29 columns</p>\n",
       "</div>"
      ],
      "text/plain": [
       "      id              name  number_of_seasons  number_of_episodes  \\\n",
       "0   1399   Game of Thrones                  8                  73   \n",
       "1  71446       Money Heist                  3                  41   \n",
       "2  66732   Stranger Things                  4                  34   \n",
       "3   1402  The Walking Dead                 11                 177   \n",
       "4  63174           Lucifer                  6                  93   \n",
       "\n",
       "  original_language  vote_count  vote_average  \\\n",
       "0                en       21857         8.442   \n",
       "1                es       17836         8.257   \n",
       "2                en       16161         8.624   \n",
       "3                en       15432         8.121   \n",
       "4                en       13870         8.486   \n",
       "\n",
       "                                            overview  adult  \\\n",
       "0  Seven noble families fight for control of the ...  False   \n",
       "1  To carry out the biggest heist in history, a m...  False   \n",
       "2  When a young boy vanishes, a small town uncove...  False   \n",
       "3  Sheriff's deputy Rick Grimes awakens from a co...  False   \n",
       "4  Bored and unhappy as the Lord of Hell, Lucifer...  False   \n",
       "\n",
       "                      backdrop_path  ...                           tagline  \\\n",
       "0   /2OMB0ynKlyIenMJWI2Dy9IWT4c.jpg  ...                  Winter Is Coming   \n",
       "1  /gFZriCkpJYsApPZEF3jhxL4yLzG.jpg  ...              The perfect robbery.   \n",
       "2  /2MaumbgBlW1NoPo3ZJO38A6v7OS.jpg  ...     Every ending has a beginning.   \n",
       "3  /x4salpjB11umlUOltfNvSSrjSXm.jpg  ...  Fight the dead. Fear the living.   \n",
       "4  /aDBRtunw49UF4XmqfyNuD9nlYIu.jpg  ...              It's good to be bad.   \n",
       "\n",
       "                                        genres                 created_by  \\\n",
       "0  Sci-Fi & Fantasy, Drama, Action & Adventure  David Benioff, D.B. Weiss   \n",
       "1                                 Crime, Drama                  Álex Pina   \n",
       "2             Drama, Sci-Fi & Fantasy, Mystery   Matt Duffer, Ross Duffer   \n",
       "3  Action & Adventure, Drama, Sci-Fi & Fantasy             Frank Darabont   \n",
       "4                      Crime, Sci-Fi & Fantasy                Tom Kapinos   \n",
       "\n",
       "   languages           networks  origin_country spoken_languages  \\\n",
       "0         en                HBO              US          English   \n",
       "1         es  Netflix, Antena 3              ES          Español   \n",
       "2         en            Netflix              US          English   \n",
       "3         en                AMC              US          English   \n",
       "4         en       FOX, Netflix              US          English   \n",
       "\n",
       "                                production_companies  \\\n",
       "0  Revolution Sun Studios, Television 360, Genera...   \n",
       "1                                    Vancouver Media   \n",
       "2  21 Laps Entertainment, Monkey Massacre Product...   \n",
       "3  AMC Studios, Circle of Confusion, Valhalla Mot...   \n",
       "4  Warner Bros. Television, DC Entertainment, Jer...   \n",
       "\n",
       "                       production_countries episode_run_time  \n",
       "0  United Kingdom, United States of America                0  \n",
       "1                                     Spain               70  \n",
       "2                  United States of America                0  \n",
       "3                  United States of America               42  \n",
       "4                  United States of America               45  \n",
       "\n",
       "[5 rows x 29 columns]"
      ]
     },
     "execution_count": 3,
     "metadata": {},
     "output_type": "execute_result"
    }
   ],
   "source": [
    "df2.head(5)"
   ]
  },
  {
   "cell_type": "markdown",
   "metadata": {
    "colab_type": "text",
    "id": "CdlYQHtoIFNE"
   },
   "source": [
    "**Merging both datasets to one to combine everything into one main DataFrame using 'id' feature**\n"
   ]
  },
  {
   "cell_type": "code",
   "execution_count": 4,
   "metadata": {
    "colab": {},
    "colab_type": "code",
    "id": "MYrI2AJFIFNP"
   },
   "outputs": [],
   "source": [
    "m = df2['vote_count'].quantile(0.9)\n",
    "C = df2['vote_average'].mean()"
   ]
  },
  {
   "cell_type": "code",
   "execution_count": 5,
   "metadata": {
    "colab": {},
    "colab_type": "code",
    "id": "K7xZT4LrIFNY"
   },
   "outputs": [],
   "source": [
    "def weight_average(x):\n",
    "    v = x['vote_count']\n",
    "    R = x['vote_average']\n",
    "    return (v/(v+m))*R + (m/(v+m))*C"
   ]
  },
  {
   "cell_type": "markdown",
   "metadata": {
    "colab_type": "text",
    "id": "WkvYPxLZIFNe"
   },
   "source": [
    "**Filtering Dataframe to get tvshows with vote count >= m (minimum votes required to appear on chart)**"
   ]
  },
  {
   "cell_type": "code",
   "execution_count": 6,
   "metadata": {
    "colab": {},
    "colab_type": "code",
    "id": "3qBjX3qTIFNf",
    "outputId": "a3b95e3a-aded-484f-ad10-937161f66fa5"
   },
   "outputs": [
    {
     "data": {
      "text/plain": [
       "(18585, 29)"
      ]
     },
     "execution_count": 6,
     "metadata": {},
     "output_type": "execute_result"
    }
   ],
   "source": [
    "q_tvshows = df2.copy().loc[df2['vote_count'] >= m]\n",
    "q_tvshows.shape"
   ]
  },
  {
   "cell_type": "code",
   "execution_count": 7,
   "metadata": {
    "colab": {},
    "colab_type": "code",
    "id": "kZf3EcYwIFNn",
    "outputId": "21de8c17-5983-4238-82c7-a09057642b24"
   },
   "outputs": [
    {
     "data": {
      "text/plain": [
       "(18585, 30)"
      ]
     },
     "execution_count": 7,
     "metadata": {},
     "output_type": "execute_result"
    }
   ],
   "source": [
    "q_tvshows['score'] = q_tvshows.apply(weight_average , axis = 1)\n",
    "q_tvshows.shape"
   ]
  },
  {
   "cell_type": "markdown",
   "metadata": {
    "colab_type": "text",
    "id": "6Heyoy-bIFNu"
   },
   "source": [
    "**find top 10 IMDB rated tvshows**"
   ]
  },
  {
   "cell_type": "code",
   "execution_count": 8,
   "metadata": {
    "colab": {},
    "colab_type": "code",
    "id": "gUdMf3fQIFNx",
    "outputId": "12a46652-40ac-4fdb-d709-1eeacb397e19"
   },
   "outputs": [
    {
     "data": {
      "text/html": [
       "<div>\n",
       "<style scoped>\n",
       "    .dataframe tbody tr th:only-of-type {\n",
       "        vertical-align: middle;\n",
       "    }\n",
       "\n",
       "    .dataframe tbody tr th {\n",
       "        vertical-align: top;\n",
       "    }\n",
       "\n",
       "    .dataframe thead th {\n",
       "        text-align: right;\n",
       "    }\n",
       "</style>\n",
       "<table border=\"1\" class=\"dataframe\">\n",
       "  <thead>\n",
       "    <tr style=\"text-align: right;\">\n",
       "      <th></th>\n",
       "      <th>name</th>\n",
       "      <th>vote_average</th>\n",
       "      <th>vote_count</th>\n",
       "    </tr>\n",
       "  </thead>\n",
       "  <tbody>\n",
       "    <tr>\n",
       "      <th>3245</th>\n",
       "      <td>Adventure Time: Fionna &amp; Cake</td>\n",
       "      <td>9.478</td>\n",
       "      <td>90</td>\n",
       "    </tr>\n",
       "    <tr>\n",
       "      <th>5795</th>\n",
       "      <td>Scooby-Doo!: Behind the Scenes</td>\n",
       "      <td>10.000</td>\n",
       "      <td>34</td>\n",
       "    </tr>\n",
       "    <tr>\n",
       "      <th>5151</th>\n",
       "      <td>On Air with Ryan Seacrest</td>\n",
       "      <td>9.700</td>\n",
       "      <td>41</td>\n",
       "    </tr>\n",
       "    <tr>\n",
       "      <th>7</th>\n",
       "      <td>Breaking Bad</td>\n",
       "      <td>8.890</td>\n",
       "      <td>12398</td>\n",
       "    </tr>\n",
       "    <tr>\n",
       "      <th>85</th>\n",
       "      <td>Arcane</td>\n",
       "      <td>8.740</td>\n",
       "      <td>3341</td>\n",
       "    </tr>\n",
       "    <tr>\n",
       "      <th>60</th>\n",
       "      <td>One Piece</td>\n",
       "      <td>8.725</td>\n",
       "      <td>4052</td>\n",
       "    </tr>\n",
       "    <tr>\n",
       "      <th>21</th>\n",
       "      <td>Rick and Morty</td>\n",
       "      <td>8.700</td>\n",
       "      <td>8595</td>\n",
       "    </tr>\n",
       "    <tr>\n",
       "      <th>34</th>\n",
       "      <td>Demon Slayer: Kimetsu no Yaiba</td>\n",
       "      <td>8.700</td>\n",
       "      <td>5618</td>\n",
       "    </tr>\n",
       "    <tr>\n",
       "      <th>51</th>\n",
       "      <td>Anne with an E</td>\n",
       "      <td>8.696</td>\n",
       "      <td>4383</td>\n",
       "    </tr>\n",
       "    <tr>\n",
       "      <th>77</th>\n",
       "      <td>Avatar: The Last Airbender</td>\n",
       "      <td>8.690</td>\n",
       "      <td>3497</td>\n",
       "    </tr>\n",
       "  </tbody>\n",
       "</table>\n",
       "</div>"
      ],
      "text/plain": [
       "                                name  vote_average  vote_count\n",
       "3245   Adventure Time: Fionna & Cake         9.478          90\n",
       "5795  Scooby-Doo!: Behind the Scenes        10.000          34\n",
       "5151       On Air with Ryan Seacrest         9.700          41\n",
       "7                       Breaking Bad         8.890       12398\n",
       "85                            Arcane         8.740        3341\n",
       "60                         One Piece         8.725        4052\n",
       "21                    Rick and Morty         8.700        8595\n",
       "34    Demon Slayer: Kimetsu no Yaiba         8.700        5618\n",
       "51                    Anne with an E         8.696        4383\n",
       "77        Avatar: The Last Airbender         8.690        3497"
      ]
     },
     "execution_count": 8,
     "metadata": {},
     "output_type": "execute_result"
    }
   ],
   "source": [
    "q_tvshows = q_tvshows.sort_values('score' , ascending = False)\n",
    "q_tvshows[['name','vote_average','vote_count']].head(10)"
   ]
  },
  {
   "cell_type": "code",
   "execution_count": 9,
   "metadata": {
    "colab": {},
    "colab_type": "code",
    "id": "qP7AlEfDIFN5",
    "outputId": "aedaade4-18a9-44c4-f4b3-4222c0a259dd"
   },
   "outputs": [
    {
     "data": {
      "text/plain": [
       "Text(0.5, 1.0, 'Popular TVShows')"
      ]
     },
     "execution_count": 9,
     "metadata": {},
     "output_type": "execute_result"
    },
    {
     "data": {
      "image/png": "[encoded data removed]",
      "text/plain": [
       "<Figure size 1200x400 with 1 Axes>"
      ]
     },
     "metadata": {},
     "output_type": "display_data"
    }
   ],
   "source": [
    "pop = df2.sort_values('popularity' , ascending = False)\n",
    "plt.figure(figsize=(12,4))\n",
    "plt.barh(pop['name'].head(6),pop['popularity'].head(6))\n",
    "plt.gca().invert_yaxis()\n",
    "plt.xlabel(\"Popularity\")\n",
    "plt.title(\"Popular TVShows\")"
   ]
  },
  {
   "cell_type": "markdown",
   "metadata": {
    "colab_type": "text",
    "id": "CEZhXgeYIFOA"
   },
   "source": [
    "**Content Based Filtering**"
   ]
  },
  {
   "cell_type": "markdown",
   "metadata": {
    "colab_type": "text",
    "id": "tfdjtQxNIFOB"
   },
   "source": [
    "## Initializing TDF-IDF vectorizer object to generate TDF-IDF matrix of plots of tvshows\n",
    "\n",
    "---"
   ]
  },
  {
   "cell_type": "code",
   "execution_count": 10,
   "metadata": {
    "colab": {},
    "colab_type": "code",
    "id": "rRWFRbjIIFOD",
    "outputId": "c3e0c7eb-1178-430c-b0a8-6cb5be839bcb"
   },
   "outputs": [
    {
     "data": {
      "text/plain": [
       "(168639, 132976)"
      ]
     },
     "execution_count": 10,
     "metadata": {},
     "output_type": "execute_result"
    }
   ],
   "source": [
    "tfidf = TfidfVectorizer( stop_words='english' )\n",
    "df2['overview'] = df2['overview'].fillna('')\n",
    "tfidf_matrix = tfidf.fit_transform(df2['overview'])\n",
    "tfidf_matrix_sparse = csr_matrix(tfidf_matrix)\n",
    "tfidf_matrix_sparse.shape"
   ]
  },
  {
   "cell_type": "code",
   "execution_count": 11,
   "metadata": {
    "colab": {},
    "colab_type": "code",
    "id": "CpdiBj0xIFOJ",
    "outputId": "f805aa45-94cc-4c11-863b-390861f13508"
   },
   "outputs": [
    {
     "ename": "MemoryError",
     "evalue": "Unable to allocate 74.5 GiB for an array with shape (100000, 100000) and data type float64",
     "output_type": "error",
     "traceback": [
      "\u001b[1;31m---------------------------------------------------------------------------\u001b[0m",
      "\u001b[1;31mMemoryError\u001b[0m                               Traceback (most recent call last)",
      "Cell \u001b[1;32mIn[11], line 2\u001b[0m\n\u001b[0;32m      1\u001b[0m tfidf_matrix_subset \u001b[38;5;241m=\u001b[39m tfidf_matrix[:\u001b[38;5;241m100000\u001b[39m]\n\u001b[1;32m----> 2\u001b[0m cosine_sim \u001b[38;5;241m=\u001b[39m \u001b[43mlinear_kernel\u001b[49m\u001b[43m(\u001b[49m\u001b[43mtfidf_matrix_subset\u001b[49m\u001b[43m,\u001b[49m\u001b[43m \u001b[49m\u001b[43mtfidf_matrix_subset\u001b[49m\u001b[43m)\u001b[49m\n\u001b[0;32m      3\u001b[0m cosine_sim\u001b[38;5;241m.\u001b[39mshape\n",
      "File \u001b[1;32mc:\\Users\\adi81\\AppData\\Local\\Programs\\Python\\Python310\\lib\\site-packages\\sklearn\\utils\\_param_validation.py:216\u001b[0m, in \u001b[0;36mvalidate_params.<locals>.decorator.<locals>.wrapper\u001b[1;34m(*args, **kwargs)\u001b[0m\n\u001b[0;32m    210\u001b[0m \u001b[38;5;28;01mtry\u001b[39;00m:\n\u001b[0;32m    211\u001b[0m     \u001b[38;5;28;01mwith\u001b[39;00m config_context(\n\u001b[0;32m    212\u001b[0m         skip_parameter_validation\u001b[38;5;241m=\u001b[39m(\n\u001b[0;32m    213\u001b[0m             prefer_skip_nested_validation \u001b[38;5;129;01mor\u001b[39;00m global_skip_validation\n\u001b[0;32m    214\u001b[0m         )\n\u001b[0;32m    215\u001b[0m     ):\n\u001b[1;32m--> 216\u001b[0m         \u001b[38;5;28;01mreturn\u001b[39;00m func(\u001b[38;5;241m*\u001b[39margs, \u001b[38;5;241m*\u001b[39m\u001b[38;5;241m*\u001b[39mkwargs)\n\u001b[0;32m    217\u001b[0m \u001b[38;5;28;01mexcept\u001b[39;00m InvalidParameterError \u001b[38;5;28;01mas\u001b[39;00m e:\n\u001b[0;32m    218\u001b[0m     \u001b[38;5;66;03m# When the function is just a wrapper around an estimator, we allow\u001b[39;00m\n\u001b[0;32m    219\u001b[0m     \u001b[38;5;66;03m# the function to delegate validation to the estimator, but we replace\u001b[39;00m\n\u001b[0;32m    220\u001b[0m     \u001b[38;5;66;03m# the name of the estimator by the name of the function in the error\u001b[39;00m\n\u001b[0;32m    221\u001b[0m     \u001b[38;5;66;03m# message to avoid confusion.\u001b[39;00m\n\u001b[0;32m    222\u001b[0m     msg \u001b[38;5;241m=\u001b[39m re\u001b[38;5;241m.\u001b[39msub(\n\u001b[0;32m    223\u001b[0m         \u001b[38;5;124mr\u001b[39m\u001b[38;5;124m\"\u001b[39m\u001b[38;5;124mparameter of \u001b[39m\u001b[38;5;124m\\\u001b[39m\u001b[38;5;124mw+ must be\u001b[39m\u001b[38;5;124m\"\u001b[39m,\n\u001b[0;32m    224\u001b[0m         \u001b[38;5;124mf\u001b[39m\u001b[38;5;124m\"\u001b[39m\u001b[38;5;124mparameter of \u001b[39m\u001b[38;5;132;01m{\u001b[39;00mfunc\u001b[38;5;241m.\u001b[39m\u001b[38;5;18m__qualname__\u001b[39m\u001b[38;5;132;01m}\u001b[39;00m\u001b[38;5;124m must be\u001b[39m\u001b[38;5;124m\"\u001b[39m,\n\u001b[0;32m    225\u001b[0m         \u001b[38;5;28mstr\u001b[39m(e),\n\u001b[0;32m    226\u001b[0m     )\n",
      "File \u001b[1;32mc:\\Users\\adi81\\AppData\\Local\\Programs\\Python\\Python310\\lib\\site-packages\\sklearn\\metrics\\pairwise.py:1434\u001b[0m, in \u001b[0;36mlinear_kernel\u001b[1;34m(X, Y, dense_output)\u001b[0m\n\u001b[0;32m   1400\u001b[0m \u001b[38;5;250m\u001b[39m\u001b[38;5;124;03m\"\"\"\u001b[39;00m\n\u001b[0;32m   1401\u001b[0m \u001b[38;5;124;03mCompute the linear kernel between X and Y.\u001b[39;00m\n\u001b[0;32m   1402\u001b[0m \n\u001b[1;32m   (...)\u001b[0m\n\u001b[0;32m   1431\u001b[0m \u001b[38;5;124;03m       [1., 2.]])\u001b[39;00m\n\u001b[0;32m   1432\u001b[0m \u001b[38;5;124;03m\"\"\"\u001b[39;00m\n\u001b[0;32m   1433\u001b[0m X, Y \u001b[38;5;241m=\u001b[39m check_pairwise_arrays(X, Y)\n\u001b[1;32m-> 1434\u001b[0m \u001b[38;5;28;01mreturn\u001b[39;00m \u001b[43msafe_sparse_dot\u001b[49m\u001b[43m(\u001b[49m\u001b[43mX\u001b[49m\u001b[43m,\u001b[49m\u001b[43m \u001b[49m\u001b[43mY\u001b[49m\u001b[38;5;241;43m.\u001b[39;49m\u001b[43mT\u001b[49m\u001b[43m,\u001b[49m\u001b[43m \u001b[49m\u001b[43mdense_output\u001b[49m\u001b[38;5;241;43m=\u001b[39;49m\u001b[43mdense_output\u001b[49m\u001b[43m)\u001b[49m\n",
      "File \u001b[1;32mc:\\Users\\adi81\\AppData\\Local\\Programs\\Python\\Python310\\lib\\site-packages\\sklearn\\utils\\extmath.py:211\u001b[0m, in \u001b[0;36msafe_sparse_dot\u001b[1;34m(a, b, dense_output)\u001b[0m\n\u001b[0;32m    203\u001b[0m     ret \u001b[38;5;241m=\u001b[39m a \u001b[38;5;241m@\u001b[39m b\n\u001b[0;32m    205\u001b[0m \u001b[38;5;28;01mif\u001b[39;00m (\n\u001b[0;32m    206\u001b[0m     sparse\u001b[38;5;241m.\u001b[39missparse(a)\n\u001b[0;32m    207\u001b[0m     \u001b[38;5;129;01mand\u001b[39;00m sparse\u001b[38;5;241m.\u001b[39missparse(b)\n\u001b[0;32m    208\u001b[0m     \u001b[38;5;129;01mand\u001b[39;00m dense_output\n\u001b[0;32m    209\u001b[0m     \u001b[38;5;129;01mand\u001b[39;00m \u001b[38;5;28mhasattr\u001b[39m(ret, \u001b[38;5;124m\"\u001b[39m\u001b[38;5;124mtoarray\u001b[39m\u001b[38;5;124m\"\u001b[39m)\n\u001b[0;32m    210\u001b[0m ):\n\u001b[1;32m--> 211\u001b[0m     \u001b[38;5;28;01mreturn\u001b[39;00m \u001b[43mret\u001b[49m\u001b[38;5;241;43m.\u001b[39;49m\u001b[43mtoarray\u001b[49m\u001b[43m(\u001b[49m\u001b[43m)\u001b[49m\n\u001b[0;32m    212\u001b[0m \u001b[38;5;28;01mreturn\u001b[39;00m ret\n",
      "File \u001b[1;32mc:\\Users\\adi81\\AppData\\Local\\Programs\\Python\\Python310\\lib\\site-packages\\scipy\\sparse\\_compressed.py:1170\u001b[0m, in \u001b[0;36m_cs_matrix.toarray\u001b[1;34m(self, order, out)\u001b[0m\n\u001b[0;32m   1168\u001b[0m \u001b[38;5;28;01mif\u001b[39;00m out \u001b[38;5;129;01mis\u001b[39;00m \u001b[38;5;28;01mNone\u001b[39;00m \u001b[38;5;129;01mand\u001b[39;00m order \u001b[38;5;129;01mis\u001b[39;00m \u001b[38;5;28;01mNone\u001b[39;00m:\n\u001b[0;32m   1169\u001b[0m     order \u001b[38;5;241m=\u001b[39m \u001b[38;5;28mself\u001b[39m\u001b[38;5;241m.\u001b[39m_swap(\u001b[38;5;124m'\u001b[39m\u001b[38;5;124mcf\u001b[39m\u001b[38;5;124m'\u001b[39m)[\u001b[38;5;241m0\u001b[39m]\n\u001b[1;32m-> 1170\u001b[0m out \u001b[38;5;241m=\u001b[39m \u001b[38;5;28;43mself\u001b[39;49m\u001b[38;5;241;43m.\u001b[39;49m\u001b[43m_process_toarray_args\u001b[49m\u001b[43m(\u001b[49m\u001b[43morder\u001b[49m\u001b[43m,\u001b[49m\u001b[43m \u001b[49m\u001b[43mout\u001b[49m\u001b[43m)\u001b[49m\n\u001b[0;32m   1171\u001b[0m \u001b[38;5;28;01mif\u001b[39;00m \u001b[38;5;129;01mnot\u001b[39;00m (out\u001b[38;5;241m.\u001b[39mflags\u001b[38;5;241m.\u001b[39mc_contiguous \u001b[38;5;129;01mor\u001b[39;00m out\u001b[38;5;241m.\u001b[39mflags\u001b[38;5;241m.\u001b[39mf_contiguous):\n\u001b[0;32m   1172\u001b[0m     \u001b[38;5;28;01mraise\u001b[39;00m \u001b[38;5;167;01mValueError\u001b[39;00m(\u001b[38;5;124m'\u001b[39m\u001b[38;5;124mOutput array must be C or F contiguous\u001b[39m\u001b[38;5;124m'\u001b[39m)\n",
      "File \u001b[1;32mc:\\Users\\adi81\\AppData\\Local\\Programs\\Python\\Python310\\lib\\site-packages\\scipy\\sparse\\_base.py:1366\u001b[0m, in \u001b[0;36m_spbase._process_toarray_args\u001b[1;34m(self, order, out)\u001b[0m\n\u001b[0;32m   1364\u001b[0m     \u001b[38;5;28;01mreturn\u001b[39;00m out\n\u001b[0;32m   1365\u001b[0m \u001b[38;5;28;01melse\u001b[39;00m:\n\u001b[1;32m-> 1366\u001b[0m     \u001b[38;5;28;01mreturn\u001b[39;00m \u001b[43mnp\u001b[49m\u001b[38;5;241;43m.\u001b[39;49m\u001b[43mzeros\u001b[49m\u001b[43m(\u001b[49m\u001b[38;5;28;43mself\u001b[39;49m\u001b[38;5;241;43m.\u001b[39;49m\u001b[43mshape\u001b[49m\u001b[43m,\u001b[49m\u001b[43m \u001b[49m\u001b[43mdtype\u001b[49m\u001b[38;5;241;43m=\u001b[39;49m\u001b[38;5;28;43mself\u001b[39;49m\u001b[38;5;241;43m.\u001b[39;49m\u001b[43mdtype\u001b[49m\u001b[43m,\u001b[49m\u001b[43m \u001b[49m\u001b[43morder\u001b[49m\u001b[38;5;241;43m=\u001b[39;49m\u001b[43morder\u001b[49m\u001b[43m)\u001b[49m\n",
      "\u001b[1;31mMemoryError\u001b[0m: Unable to allocate 74.5 GiB for an array with shape (100000, 100000) and data type float64"
     ]
    }
   ],
   "source": [
    "tfidf_matrix_subset = tfidf_matrix[:70000]\n",
    "cosine_sim = linear_kernel(tfidf_matrix_subset, tfidf_matrix_subset)\n",
    "cosine_sim.shape"
   ]
  },
  {
   "cell_type": "code",
   "execution_count": null,
   "metadata": {
    "colab": {},
    "colab_type": "code",
    "id": "jIM1ZZemIFOR"
   },
   "outputs": [],
   "source": [
    "indices = pd.Series(df2.index, index=df2['name']).drop_duplicates()\n",
    "def get_recommendations(title,cosine_sim = cosine_sim):\n",
    "    idx = indices[title]\n",
    "    sim_scores = list(enumerate(cosine_sim[idx]))\n",
    "    sim_scores = sorted(sim_scores, key=lambda x: x[1], reverse=True)\n",
    "    sim_scores = sim_scores[1:11]\n",
    "    tvshow_indices = [i[0] for i in sim_scores]\n",
    "    return df2['name'].iloc[tvshow_indices]"
   ]
  },
  {
   "cell_type": "markdown",
   "metadata": {
    "colab_type": "text",
    "id": "hra07DnAIFOY"
   },
   "source": [
    "**Testing recommender System**"
   ]
  },
  {
   "cell_type": "code",
   "execution_count": null,
   "metadata": {
    "colab": {},
    "colab_type": "code",
    "id": "F3t6SkeoIFOZ",
    "outputId": "6c6a9321-91ae-479d-b1d9-6b46e151eb15"
   },
   "outputs": [
    {
     "ename": "IndexError",
     "evalue": "index 20867 is out of bounds for axis 0 with size 10000",
     "output_type": "error",
     "traceback": [
      "\u001b[1;31m---------------------------------------------------------------------------\u001b[0m",
      "\u001b[1;31mIndexError\u001b[0m                                Traceback (most recent call last)",
      "Cell \u001b[1;32mIn[82], line 1\u001b[0m\n\u001b[1;32m----> 1\u001b[0m \u001b[43mget_recommendations\u001b[49m\u001b[43m(\u001b[49m\u001b[38;5;124;43m'\u001b[39;49m\u001b[38;5;124;43mHow I Met Your Mother\u001b[39;49m\u001b[38;5;124;43m'\u001b[39;49m\u001b[43m)\u001b[49m\n",
      "Cell \u001b[1;32mIn[81], line 4\u001b[0m, in \u001b[0;36mget_recommendations\u001b[1;34m(title, cosine_sim)\u001b[0m\n\u001b[0;32m      2\u001b[0m \u001b[38;5;28;01mdef\u001b[39;00m\u001b[38;5;250m \u001b[39m\u001b[38;5;21mget_recommendations\u001b[39m(title,cosine_sim \u001b[38;5;241m=\u001b[39m cosine_sim):\n\u001b[0;32m      3\u001b[0m     idx \u001b[38;5;241m=\u001b[39m indices[title]\n\u001b[1;32m----> 4\u001b[0m     sim_scores \u001b[38;5;241m=\u001b[39m \u001b[38;5;28mlist\u001b[39m(\u001b[38;5;28menumerate\u001b[39m(\u001b[43mcosine_sim\u001b[49m\u001b[43m[\u001b[49m\u001b[43midx\u001b[49m\u001b[43m]\u001b[49m))\n\u001b[0;32m      5\u001b[0m     sim_scores \u001b[38;5;241m=\u001b[39m \u001b[38;5;28msorted\u001b[39m(sim_scores, key\u001b[38;5;241m=\u001b[39m\u001b[38;5;28;01mlambda\u001b[39;00m x: x[\u001b[38;5;241m1\u001b[39m], reverse\u001b[38;5;241m=\u001b[39m\u001b[38;5;28;01mTrue\u001b[39;00m)\n\u001b[0;32m      6\u001b[0m     sim_scores \u001b[38;5;241m=\u001b[39m sim_scores[\u001b[38;5;241m1\u001b[39m:\u001b[38;5;241m11\u001b[39m]\n",
      "\u001b[1;31mIndexError\u001b[0m: index 20867 is out of bounds for axis 0 with size 10000"
     ]
    }
   ],
   "source": [
    "get_recommendations('How I Met Your Mother')"
   ]
  },
  {
   "cell_type": "code",
   "execution_count": null,
   "metadata": {},
   "outputs": [],
   "source": []
  }
 ],
 "metadata": {
  "colab": {
   "include_colab_link": true,
   "name": "Movie Recommender System.ipynb",
   "provenance": []
  },
  "kernelspec": {
   "display_name": "Python 3",
   "language": "python",
   "name": "python3"
  },
  "language_info": {
   "codemirror_mode": {
    "name": "ipython",
    "version": 3
   },
   "file_extension": ".py",
   "mimetype": "text/x-python",
   "name": "python",
   "nbconvert_exporter": "python",
   "pygments_lexer": "ipython3",
   "version": "3.10.6"
  }
 },
 "nbformat": 4,
 "nbformat_minor": 0
}
