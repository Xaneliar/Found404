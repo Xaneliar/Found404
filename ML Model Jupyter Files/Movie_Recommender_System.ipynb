{
  "cells": [
    {
      "cell_type": "markdown",
      "metadata": {
        "colab_type": "text",
        "id": "view-in-github"
      },
      "source": [
        "<a href=\"https://colab.research.google.com/github/HardeepSaggu/Movie-Recommendation-System-NLP/blob/master/Movie_Recommender_System.ipynb\" target=\"_parent\"><img src=\"https://colab.research.google.com/assets/colab-badge.svg\" alt=\"Open In Colab\"/></a>"
      ]
    },
    {
      "cell_type": "markdown",
      "metadata": {
        "colab_type": "text",
        "id": "Kj3WdNhOIFMd"
      },
      "source": [
        "**libraries and modules**"
      ]
    },
    {
      "cell_type": "code",
      "execution_count": null,
      "metadata": {
        "colab": {},
        "colab_type": "code",
        "id": "wdXDqFReIFMh"
      },
      "outputs": [],
      "source": [
        "import numpy as np\n",
        "import pandas as pd\n",
        "import matplotlib.pyplot as plt\n",
        "from sklearn.feature_extraction.text import TfidfVectorizer,CountVectorizer\n",
        "from sklearn.metrics.pairwise import linear_kernel,cosine_similarity\n",
        "from ast import literal_eval\n",
        "import warnings\n",
        "warnings.filterwarnings('ignore')\n",
        "%matplotlib inline"
      ]
    },
    {
      "cell_type": "markdown",
      "metadata": {
        "colab_type": "text",
        "id": "md7DWkolIFMq"
      },
      "source": [
        "**Dataset** \n"
      ]
    },
    {
      "cell_type": "code",
      "execution_count": null,
      "metadata": {
        "colab": {},
        "colab_type": "code",
        "id": "r7AyxBn7IFMs"
      },
      "outputs": [],
      "source": [
        "df1 = pd.read_csv('datasets/tmdb_5000_credits.csv')\n",
        "df2 = pd.read_csv('datasets/tmdb_5000_movies.csv')"
      ]
    },
    {
      "cell_type": "code",
      "execution_count": null,
      "metadata": {
        "colab": {},
        "colab_type": "code",
        "id": "Mx5miCcLIFM0",
        "outputId": "7ab0fdcb-c48e-4290-8c34-cc4fcfe60d34"
      },
      "outputs": [],
      "source": [
        "df1.head(5)"
      ]
    },
    {
      "cell_type": "code",
      "execution_count": null,
      "metadata": {
        "colab": {},
        "colab_type": "code",
        "id": "9zZ4_8paIFM-",
        "outputId": "eb8563ac-59d1-45a4-ccd4-387722fccdf3"
      },
      "outputs": [],
      "source": [
        "df2.head(5)"
      ]
    },
    {
      "cell_type": "markdown",
      "metadata": {
        "colab_type": "text",
        "id": "CdlYQHtoIFNE"
      },
      "source": [
        "**Merging both datasets to one to combine everything into one main DataFrame using 'id' feature**\n"
      ]
    },
    {
      "cell_type": "code",
      "execution_count": null,
      "metadata": {
        "colab": {},
        "colab_type": "code",
        "id": "zhz468GQIFNG",
        "outputId": "5ae06ea7-73ca-410d-d666-07bc32e1644a"
      },
      "outputs": [],
      "source": [
        "df1.columns = ['id','title_x','cast','crew']\n",
        "df2 = df2.merge(df1,on = 'id')\n",
        "df2.head(5)"
      ]
    },
    {
      "cell_type": "code",
      "execution_count": null,
      "metadata": {
        "colab": {},
        "colab_type": "code",
        "id": "MYrI2AJFIFNP"
      },
      "outputs": [],
      "source": [
        "m = df2['vote_count'].quantile(0.9)\n",
        "C = df2['vote_average'].mean()"
      ]
    },
    {
      "cell_type": "code",
      "execution_count": null,
      "metadata": {
        "colab": {},
        "colab_type": "code",
        "id": "K7xZT4LrIFNY"
      },
      "outputs": [],
      "source": [
        "def weight_average(x):\n",
        "    v = x['vote_count']\n",
        "    R = x['vote_average']\n",
        "    return (v/(v+m))*R + (m/(v+m))*C"
      ]
    },
    {
      "cell_type": "markdown",
      "metadata": {
        "colab_type": "text",
        "id": "WkvYPxLZIFNe"
      },
      "source": [
        "**Filtering Dataframe to get movies with vote count >= m (minimum votes required to appear on chart)**"
      ]
    },
    {
      "cell_type": "code",
      "execution_count": null,
      "metadata": {
        "colab": {},
        "colab_type": "code",
        "id": "3qBjX3qTIFNf",
        "outputId": "a3b95e3a-aded-484f-ad10-937161f66fa5"
      },
      "outputs": [],
      "source": [
        "q_movies = df2.copy().loc[df2['vote_count'] >= m]\n",
        "q_movies.shape"
      ]
    },
    {
      "cell_type": "code",
      "execution_count": null,
      "metadata": {
        "colab": {},
        "colab_type": "code",
        "id": "kZf3EcYwIFNn",
        "outputId": "21de8c17-5983-4238-82c7-a09057642b24"
      },
      "outputs": [],
      "source": [
        "q_movies['score'] = q_movies.apply(weight_average , axis = 1)\n",
        "q_movies.shape"
      ]
    },
    {
      "cell_type": "markdown",
      "metadata": {
        "colab_type": "text",
        "id": "6Heyoy-bIFNu"
      },
      "source": [
        "**find top 10 IMDB rated movies**"
      ]
    },
    {
      "cell_type": "code",
      "execution_count": null,
      "metadata": {
        "colab": {},
        "colab_type": "code",
        "id": "gUdMf3fQIFNx",
        "outputId": "12a46652-40ac-4fdb-d709-1eeacb397e19"
      },
      "outputs": [],
      "source": [
        "q_movies = q_movies.sort_values('score' , ascending = False)\n",
        "q_movies[['title','score','vote_average','vote_count']].head(10)"
      ]
    },
    {
      "cell_type": "code",
      "execution_count": null,
      "metadata": {
        "colab": {},
        "colab_type": "code",
        "id": "qP7AlEfDIFN5",
        "outputId": "aedaade4-18a9-44c4-f4b3-4222c0a259dd"
      },
      "outputs": [],
      "source": [
        "pop = df2.sort_values('popularity' , ascending = False)\n",
        "plt.figure(figsize=(12,4))\n",
        "plt.barh(pop['title'].head(6),pop['popularity'].head(6))\n",
        "plt.gca().invert_yaxis()\n",
        "plt.xlabel(\"Popularity\")\n",
        "plt.title(\"Popular Movies\")"
      ]
    },
    {
      "cell_type": "markdown",
      "metadata": {
        "colab_type": "text",
        "id": "CEZhXgeYIFOA"
      },
      "source": [
        "**Content Based Filtering**"
      ]
    },
    {
      "cell_type": "markdown",
      "metadata": {
        "colab_type": "text",
        "id": "tfdjtQxNIFOB"
      },
      "source": [
        "## Initializing TDF-IDF vectorizer object to generate TDF-IDF matrix of plots of movies\n",
        "\n",
        "---"
      ]
    },
    {
      "cell_type": "code",
      "execution_count": null,
      "metadata": {
        "colab": {},
        "colab_type": "code",
        "id": "rRWFRbjIIFOD",
        "outputId": "c3e0c7eb-1178-430c-b0a8-6cb5be839bcb"
      },
      "outputs": [],
      "source": [
        "tfidf = TfidfVectorizer( stop_words='english' )\n",
        "df2['overview'] = df2['overview'].fillna('')\n",
        "tfidf_matrix = tfidf.fit_transform(df2['overview'])\n",
        "tfidf_matrix.shape"
      ]
    },
    {
      "cell_type": "code",
      "execution_count": null,
      "metadata": {
        "colab": {},
        "colab_type": "code",
        "id": "CpdiBj0xIFOJ",
        "outputId": "f805aa45-94cc-4c11-863b-390861f13508"
      },
      "outputs": [],
      "source": [
        "cosine_sim = linear_kernel(tfidf_matrix, tfidf_matrix)\n",
        "cosine_sim.shape"
      ]
    },
    {
      "cell_type": "code",
      "execution_count": null,
      "metadata": {
        "colab": {},
        "colab_type": "code",
        "id": "jIM1ZZemIFOR"
      },
      "outputs": [],
      "source": [
        "indices = pd.Series(df2.index, index=df2['title']).drop_duplicates()\n",
        "def get_recommendations(title,cosine_sim = cosine_sim):\n",
        "    idx = indices[title]\n",
        "    sim_scores = list(enumerate(cosine_sim[idx]))\n",
        "    sim_scores = sorted(sim_scores, key=lambda x: x[1], reverse=True)\n",
        "    sim_scores = sim_scores[1:11]\n",
        "    movie_indices = [i[0] for i in sim_scores]\n",
        "    return df2['title'].iloc[movie_indices]"
      ]
    },
    {
      "cell_type": "markdown",
      "metadata": {
        "colab_type": "text",
        "id": "hra07DnAIFOY"
      },
      "source": [
        "**Testing recommender System**"
      ]
    },
    {
      "cell_type": "code",
      "execution_count": null,
      "metadata": {
        "colab": {},
        "colab_type": "code",
        "id": "F3t6SkeoIFOZ",
        "outputId": "6c6a9321-91ae-479d-b1d9-6b46e151eb15"
      },
      "outputs": [],
      "source": [
        "get_recommendations('The Dark Knight Rises')"
      ]
    },
    {
      "cell_type": "code",
      "execution_count": null,
      "metadata": {
        "colab": {},
        "colab_type": "code",
        "id": "rzNeGoCBIFOg",
        "outputId": "57bf7956-135e-472a-e8b8-138265003ed1"
      },
      "outputs": [],
      "source": [
        "get_recommendations('The Godfather')"
      ]
    },
    {
      "cell_type": "code",
      "execution_count": null,
      "metadata": {
        "colab": {},
        "colab_type": "code",
        "id": "mAYYgM3OIFOr"
      },
      "outputs": [],
      "source": [
        "features = ['cast', 'crew', 'keywords', 'genres']\n",
        "for feature in features:\n",
        "    df2[feature] = df2[feature].apply(literal_eval)"
      ]
    },
    {
      "cell_type": "code",
      "execution_count": null,
      "metadata": {
        "colab": {},
        "colab_type": "code",
        "id": "Y3T5eADVIFOz"
      },
      "outputs": [],
      "source": [
        "def get_director(x):\n",
        "    for i in x:\n",
        "        if (i['job'] == 'Director'):\n",
        "            return i['name']\n",
        "    return np.nan"
      ]
    },
    {
      "cell_type": "code",
      "execution_count": null,
      "metadata": {
        "colab": {},
        "colab_type": "code",
        "id": "8A3-HgB_IFO4"
      },
      "outputs": [],
      "source": [
        "def get_list(x):\n",
        "    if (isinstance(x,list)):\n",
        "        names = [i['name'] for i in x]\n",
        "        if len(names) > 3:\n",
        "            return names[:3]\n",
        "        return names\n",
        "    return []"
      ]
    },
    {
      "cell_type": "code",
      "execution_count": null,
      "metadata": {
        "colab": {},
        "colab_type": "code",
        "id": "8zgg_bkKIFPA"
      },
      "outputs": [],
      "source": [
        "df2['director'] = df2['crew'].apply(get_director)\n",
        "features = ['cast', 'keywords', 'genres']\n",
        "for feature in features:\n",
        "    df2[feature] = df2[feature].apply(get_list)"
      ]
    },
    {
      "cell_type": "code",
      "execution_count": null,
      "metadata": {
        "colab": {},
        "colab_type": "code",
        "id": "sk7TU1BaIFPJ",
        "outputId": "b3b0644f-3a1c-4646-eb50-fc5f8492b795"
      },
      "outputs": [],
      "source": [
        "df2[['title', 'cast', 'director', 'keywords', 'genres']].head(5)"
      ]
    },
    {
      "cell_type": "code",
      "execution_count": null,
      "metadata": {
        "colab": {},
        "colab_type": "code",
        "id": "U2qOYpikIFPQ"
      },
      "outputs": [],
      "source": [
        "def clean_data(x):\n",
        "    if isinstance(x, list):\n",
        "        return [str.lower(i.replace(\" \", \"\")) for i in x]\n",
        "    else:\n",
        "        if isinstance(x, str):\n",
        "            return str.lower(x.replace(\" \", \"\"))\n",
        "        else:\n",
        "            return ''"
      ]
    },
    {
      "cell_type": "code",
      "execution_count": null,
      "metadata": {
        "colab": {},
        "colab_type": "code",
        "id": "gzdQcgGOIFPW"
      },
      "outputs": [],
      "source": [
        "features = ['cast', 'keywords', 'director', 'genres']\n",
        "for feature in features:\n",
        "    df2[feature] = df2[feature].apply(clean_data)"
      ]
    },
    {
      "cell_type": "code",
      "execution_count": null,
      "metadata": {
        "colab": {},
        "colab_type": "code",
        "id": "Bm4GliQjIFPb"
      },
      "outputs": [],
      "source": [
        "def create_soup(x):\n",
        "    return ' '.join(x['keywords']) + ' ' + ' '.join(x['cast']) + ' ' + x['director'] + ' ' + ' '.join(x['genres'])\n",
        "df2['soup'] = df2.apply(create_soup, axis=1)"
      ]
    },
    {
      "cell_type": "markdown",
      "metadata": {
        "colab_type": "text",
        "id": "3ODDBdK8IFPg"
      },
      "source": [
        "**Vectorizing**"
      ]
    },
    {
      "cell_type": "code",
      "execution_count": null,
      "metadata": {
        "colab": {},
        "colab_type": "code",
        "id": "L4k6YBzlIFPh"
      },
      "outputs": [],
      "source": [
        "count = CountVectorizer(stop_words='english')\n",
        "count_matrix = count.fit_transform(df2['soup'])"
      ]
    },
    {
      "cell_type": "markdown",
      "metadata": {
        "colab_type": "text",
        "id": "g3_c2h5LIFPo"
      },
      "source": [
        "**Finding the Cosine Similarity Scores**"
      ]
    },
    {
      "cell_type": "code",
      "execution_count": null,
      "metadata": {
        "colab": {},
        "colab_type": "code",
        "id": "-kXD0mRhIFPp"
      },
      "outputs": [],
      "source": [
        "cosine_sim2 = cosine_similarity(count_matrix, count_matrix)"
      ]
    },
    {
      "cell_type": "code",
      "execution_count": null,
      "metadata": {
        "colab": {},
        "colab_type": "code",
        "id": "x5HN-f_0IFPu"
      },
      "outputs": [],
      "source": [
        "df2 = df2.reset_index()\n",
        "indices = pd.Series(df2.index, index=df2['title'])"
      ]
    },
    {
      "cell_type": "markdown",
      "metadata": {
        "colab_type": "text",
        "id": "cfOcSHtIIFP0"
      },
      "source": [
        "**Testing recommender system**"
      ]
    },
    {
      "cell_type": "code",
      "execution_count": null,
      "metadata": {
        "colab": {},
        "colab_type": "code",
        "id": "KZ17Ro0bIFP1",
        "outputId": "c5182d61-0ad3-414d-f2d7-a8595d204aab"
      },
      "outputs": [],
      "source": [
        "get_recommendations('The Godfather',cosine_sim2)"
      ]
    },
    {
      "cell_type": "code",
      "execution_count": null,
      "metadata": {
        "colab": {},
        "colab_type": "code",
        "id": "trg_b227IFP6",
        "outputId": "6d379386-3413-41a6-e6fa-be8526a7e55c"
      },
      "outputs": [],
      "source": [
        "get_recommendations('Minions', cosine_sim2)"
      ]
    }
  ],
  "metadata": {
    "colab": {
      "include_colab_link": true,
      "name": "Movie Recommender System.ipynb",
      "provenance": []
    },
    "kernelspec": {
      "display_name": "Python 3",
      "language": "python",
      "name": "python3"
    },
    "language_info": {
      "codemirror_mode": {
        "name": "ipython",
        "version": 3
      },
      "file_extension": ".py",
      "mimetype": "text/x-python",
      "name": "python",
      "nbconvert_exporter": "python",
      "pygments_lexer": "ipython3",
      "version": "3.10.6"
    }
  },
  "nbformat": 4,
  "nbformat_minor": 0
}
